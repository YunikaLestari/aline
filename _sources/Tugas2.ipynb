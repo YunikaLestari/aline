{
 "cells": [
  {
   "cell_type": "markdown",
   "metadata": {},
   "source": [
    "### **TUGAS 2**\n",
    "### **MATRIKS**"
   ]
  },
  {
   "cell_type": "markdown",
   "metadata": {},
   "source": [
    "### Pengertian Matriks\n",
    "Matriks merupakan susunan bilangan real yang dapat diidentifikasi baris dan kolom nya yang ditempatkan didalam kurung siku, matriks dapat dinotasikan dengan huruf kapital seperti A,B, dan seterusnya. Didalam matriks terdapat elemen-elemen matriks yang dinotasikan dengan huruf kecil yang setiap elemen memiliki baris dan kolom yang berbeda, seperti $a_{ij}=$ a elemen, i baris, j kolom. contoh: $a_{12}$ artinya elemen a terletak dibaris 1 dan kolom ke 2.  \n",
    "\n",
    "* Ukuran matriks ditentukan oleh jumlah baris dan kolom.  \n",
    "contoh : Matriks A berukuran 3x3 (3 baris 3 kolom)\n",
    "$\n",
    "A=\\begin{bmatrix}\n",
    "2 & 4 & 5\\\\\n",
    "4 & 6 & 9\n",
    "\\end{bmatrix}\n",
    "$\n",
    "\n",
    "\n",
    "### Jenis-jenis matriks:\n",
    "1. Matriks nol, matriks yang semua elemen\n",
    "penyusunnnya nol.\n",
    "2. Matriks baris, matriks yang elemennya hanya satu baris.\n",
    "3. Matriks kolom, matriks yang elemennya hanya satu kolom.\n",
    "4. Matriks persegi adalah matriks yang mempunyai jumlah baris dan kolom yang sama.\n",
    "5. Matriks diagonal,matriks persegi yang semua elemen di luar diagonal utamanya bernilai nol.\n",
    "6. Matriks skalar, matriks yang elemen pada diagonal utamanya sama dan elemen diluar diagonal bernilai nol.\n",
    "7. Matriks identitas, matriks skalar yang elemen pada diagonal utamanya sama dengan satu.\n",
    "8. Matriks simetri, matriks persegi yang sama dengan transpose matriks itu sendiri.\n",
    "9. Matriks simetri miring, matriks persegi yang sama dengan negatif matriks transposnya\n",
    "10. Matriks segitiga atas, matriks persegi yang elemen-elemen di bawah diagonal utamanya adalah nol.\n",
    "11. Matriks segitiga bawah, matriks persegi yang elem-elemen di atas diagonal utamanya adalah nol.\n",
    "12. Matriks tranpose, matriks yang mengubah elemen di baris menjadi kolom. \n",
    "\n",
    "### Implementasi Matriks dengan Numpy  \n"
   ]
  },
  {
   "cell_type": "code",
   "execution_count": 1,
   "metadata": {},
   "outputs": [
    {
     "name": "stdout",
     "output_type": "stream",
     "text": [
      "A=\n",
      " [[1 3 6]\n",
      " [2 1 5]\n",
      " [4 2 1]]\n",
      "B=\n",
      " [[3 1 6]\n",
      " [5 5 3]\n",
      " [5 8 9]]\n",
      "C=\n",
      " [[4 5]\n",
      " [5 0]\n",
      " [7 8]]\n",
      "D=\n",
      " [[3 3 6]\n",
      " [5 7 3]\n",
      " [5 8 8]]\n",
      "\n",
      "\n",
      "Ukuran matriks : (3, 3)\n",
      "Jumlah baris : 3\n",
      "Jumlah kolom : 3\n"
     ]
    }
   ],
   "source": [
    "import numpy as np\n",
    "A = np.array([[1,3,6],[2,1,5],[4,2,1]])\n",
    "B = np.array([[3,1,6],[5,5,3],[5,8,9]])\n",
    "C = np.array([[4,5],[5,0],[7,8]])\n",
    "D = np.array([[3,3,6],[5,7,3],[5,8,8]])\n",
    "\n",
    "print(\"A=\\n\",A)\n",
    "print(\"B=\\n\",B)\n",
    "print(\"C=\\n\",C)\n",
    "print(\"D=\\n\",D)\n",
    "print(\"\\n\")\n",
    "print(\"Ukuran matriks :\",A.shape) #ukuran matriks\n",
    "print(\"Jumlah baris :\", A.shape[0])# jumlah baris\n",
    "print(\"Jumlah kolom :\", A.shape[1])# jumlah kolom"
   ]
  },
  {
   "cell_type": "markdown",
   "metadata": {},
   "source": [
    "Dengan metode *Shape* kita dapat mengakses ukuran matriks, berdasarkan jumlah baris dan kolom dalam array. Contoh: Matriks A memilki ukuran 3x3 dengan rincian 3 baris dan 3 kolom."
   ]
  },
  {
   "cell_type": "code",
   "execution_count": 2,
   "metadata": {},
   "outputs": [
    {
     "name": "stdout",
     "output_type": "stream",
     "text": [
      "[[1 1 4]\n",
      " [2 4 4]\n",
      " [2 0 3]]\n"
     ]
    }
   ],
   "source": [
    "y = np.random.randint(5,size=(3,3)) # menampilkan angka random dengan rentang 0-5 dengan ukuran matriks 3x3\n",
    "print(y)"
   ]
  },
  {
   "cell_type": "markdown",
   "metadata": {},
   "source": [
    "### Operasi pada Matriks\n",
    "Operasi matriks adalah serangkaian operasi atau tindakan yang dilakukan pada matriks, baik itu untuk mengubah matriks ataupun menggabungkan matriks. Berikut beberapa operasi matriks yang sering digunakan:"
   ]
  },
  {
   "cell_type": "code",
   "execution_count": 3,
   "metadata": {},
   "outputs": [
    {
     "name": "stdout",
     "output_type": "stream",
     "text": [
      "A=\n",
      " [[ 2  3  2]\n",
      " [ 4  1 -3]\n",
      " [-1 -2  2]]\n",
      "B=\n",
      " [[ 2  4  7]\n",
      " [ 6 -3  2]\n",
      " [ 5 -2  7]]\n",
      "C=\n",
      " [[ 3  4]\n",
      " [-2  4]\n",
      " [ 2  5]]\n"
     ]
    }
   ],
   "source": [
    "import numpy as np\n",
    "import sympy as sy\n",
    "\n",
    "a=np.array([[2,3,2],[4,1,-3],[-1,-2,2]])\n",
    "b=np.array([[2,4,7],[6,-3,2],[5,-2,7]])\n",
    "c=np.array([[3,4],[-2,4],[2,5]])\n",
    "print('A=\\n',a)\n",
    "print('B=\\n',b)\n",
    "print('C=\\n',c)"
   ]
  },
  {
   "cell_type": "markdown",
   "metadata": {},
   "source": [
    "### 1.Penjumlahan matriks :\n",
    "\n",
    "Operasi ini melibatkan penambahan elemen-elemen yang berada pada posisi yang sama dari dua matriks yang memiliki ordo yang sama. Artinya kedua matriks ini harus memiliki baris dan kolom yang sama.\n",
    "\n",
    "CONTOH PENJUMLAHAN MATRIKS A + B :\n",
    "\n",
    "\\begin{align*}\n",
    "A=\n",
    "\\begin{bmatrix}\n",
    "2&3&2\\\\\n",
    "4&1&-3\\\\\n",
    "-1&-2&2\n",
    "\\end{bmatrix}\n",
    "&&\n",
    "B=\n",
    "\\begin{bmatrix}\n",
    "2&4&7\\\\\n",
    "6&-3&2\\\\\n",
    "5&-2&7\n",
    "\\end{bmatrix}\\\\\n",
    "A + B =\n",
    "\\begin{bmatrix}\n",
    "2+2&3+4&2+7\\\\\n",
    "4+6&1+(-3)&-3+2\\\\\n",
    "-1+5&-2+(-2)&2+7\n",
    "\\end{bmatrix}\n",
    "=\n",
    "\\begin{bmatrix}\n",
    "4&7&9\\\\\n",
    "10&-2&-1\\\\\n",
    "4&-4&9\n",
    "\\end{bmatrix}\n",
    "\\end{align*}\n",
    "\n",
    "\n",
    "BERIKUT PROGRAM UNTUK PENJUMLAHAN MATRIKS:"
   ]
  },
  {
   "cell_type": "code",
   "execution_count": 4,
   "metadata": {},
   "outputs": [
    {
     "name": "stdout",
     "output_type": "stream",
     "text": [
      "A+B=\n",
      " [[ 4  7  9]\n",
      " [10 -2 -1]\n",
      " [ 4 -4  9]]\n",
      "B+A=\n",
      " [[ 4  7  9]\n",
      " [10 -2 -1]\n",
      " [ 4 -4  9]]\n",
      "Sifat di atas merupakan sifat komutatif karena A+B = B+A\n"
     ]
    }
   ],
   "source": [
    "print('A+B=\\n',a+b)\n",
    "print('B+A=\\n',b+a)\n",
    "print('Sifat di atas merupakan sifat komutatif karena A+B = B+A')"
   ]
  },
  {
   "cell_type": "markdown",
   "metadata": {},
   "source": [
    "### 2.Pengurangan Matriks:\n",
    "\n",
    "Operasi ini melibatkan pengurangan elemen-elemen yang berada pada posisi yang sama dari dua matriks yang memiliki ordo yang sama. Artinya kedua matriks ini harus memiliki baris dan kolom yang sama.\n",
    "\n",
    "CONTOH PENGURANGAN MATRIKS:\n",
    "\n",
    "\\begin{align*}\n",
    "A=\n",
    "\\begin{bmatrix}\n",
    "2&3&2\\\\\n",
    "4&1&-3\\\\\n",
    "-1&-2&2\n",
    "\\end{bmatrix}\n",
    "&&\n",
    "B=\n",
    "\\begin{bmatrix}\n",
    "2&4&7\\\\\n",
    "6&-3&2\\\\\n",
    "5&-2&7\n",
    "\\end{bmatrix}\\\\\n",
    "A - B =\n",
    "\\begin{bmatrix}\n",
    "2-2&3-4&2-7\\\\\n",
    "4-6&1-(-3)&-3-2\\\\\n",
    "-1-5&-2-(-2)&2-7\n",
    "\\end{bmatrix}\n",
    "=\n",
    "\\begin{bmatrix}\n",
    "0&-1&-5\\\\\n",
    "-2&4&-5\\\\\n",
    "-6&-0&-5\n",
    "\\end{bmatrix}\n",
    "\\end{align*}\n",
    "\n",
    "BERIKUT PROGRAM UNTUK PENGURANGAN MATRIKS:"
   ]
  },
  {
   "cell_type": "code",
   "execution_count": 5,
   "metadata": {},
   "outputs": [
    {
     "name": "stdout",
     "output_type": "stream",
     "text": [
      "A-B=\n",
      " [[ 0 -1 -5]\n",
      " [-2  4 -5]\n",
      " [-6  0 -5]]\n",
      "B-A=\n",
      " [[ 0  1  5]\n",
      " [ 2 -4  5]\n",
      " [ 6  0  5]]\n",
      "Sifat di BUKAN merupakan sifat komutatif karena A-B TIDAK SAMA DENGAN B-A\n"
     ]
    }
   ],
   "source": [
    "print('A-B=\\n',a-b)\n",
    "print('B-A=\\n',b-a)\n",
    "print('Sifat di BUKAN merupakan sifat komutatif karena A-B TIDAK SAMA DENGAN B-A')"
   ]
  },
  {
   "cell_type": "markdown",
   "metadata": {},
   "source": [
    "### 3.Perkalian Matriks:\n",
    "\n",
    "Operasi ini melibatkan perkalian elemen-elemen matriks. Untuk melakukan perkalian matriks A dan B, jumlah kolom dalam matriks A harus sama dengan jumlah baris dalam matriks B. Contoh matriks A memiliki ordo atau ukuran mxn, maka matriks B harus memiliki ordo atau ukuran nxp. Sehingga hasil dari perkalian tersebut akan menghasilkan matriks baru dengan ukuran mxp. Hasilnya akan memiliki jumlah baris yang sama dengan matriks A dan jumlah kolom yang sama dengan matriks B.\n",
    "\n",
    "CONTOH PERKALIAN MATRIKS:\n",
    "\n",
    "\n",
    "\\begin{align*}\n",
    "A=\n",
    "\\begin{bmatrix}\n",
    "2&3&2\\\\\n",
    "4&1&-3\\\\\n",
    "-1&-2&2\n",
    "\\end{bmatrix}\n",
    "&&\n",
    "B=\n",
    "\\begin{bmatrix}\n",
    "2&4&7\\\\\n",
    "6&-3&2\\\\\n",
    "5&-2&7\n",
    "\\end{bmatrix}\\\\\n",
    "A X B =\n",
    "\\begin{bmatrix}\n",
    "2(2)+3(6)+2(5) &2(4)+3(-3)+2(-2)&2(7)+3(2)+2(7)\\\\\n",
    "4(2)+1(6)+(-3)(5) &4(4)+1(-3)+(-3)(-2) &4(7)+1(2)+(-3)(7)\\\\\n",
    "-1(2)+(-2)(6)+2(5) &-1(4)+(-2)(-3)+2(-2) &-1(7)+(-2)(2)+2(7)\n",
    "\\end{bmatrix}\n",
    "=\n",
    "\\begin{bmatrix}\n",
    "32&-5&34\\\\\n",
    "-1&19&9\\\\\n",
    "-4&-2&3\n",
    "\\end{bmatrix}\n",
    "\\end{align*}\n",
    "\n",
    "BERIKUT PROGRAM UNTUK PERKALIAN MATRIKS:"
   ]
  },
  {
   "cell_type": "code",
   "execution_count": 6,
   "metadata": {},
   "outputs": [
    {
     "name": "stdout",
     "output_type": "stream",
     "text": [
      "AB=\n",
      " [[32 -5 34]\n",
      " [-1 19  9]\n",
      " [-4 -2  3]]\n",
      "AC=\n",
      " [[ 4 30]\n",
      " [ 4  5]\n",
      " [ 5 -2]]\n",
      "BC=\n",
      " [[12 59]\n",
      " [28 22]\n",
      " [33 47]]\n"
     ]
    }
   ],
   "source": [
    "print('AB=\\n',a@b)\n",
    "print('AC=\\n',a@c)\n",
    "print('BC=\\n',b@c)"
   ]
  },
  {
   "cell_type": "markdown",
   "metadata": {},
   "source": [
    "- Sifat Asosiasi:\n",
    "\n",
    "  (AB)C = A(BC)"
   ]
  },
  {
   "cell_type": "code",
   "execution_count": 7,
   "metadata": {},
   "outputs": [
    {
     "name": "stdout",
     "output_type": "stream",
     "text": [
      "A(BC) =\n",
      " [[174 278]\n",
      " [-23 117]\n",
      " [ -2  -9]]\n",
      "(AB)C =\n",
      " [[174 278]\n",
      " [-23 117]\n",
      " [ -2  -9]]\n"
     ]
    }
   ],
   "source": [
    "print('A(BC) =\\n', a@(b@c))\n",
    "print('(AB)C =\\n',(a@b)@c)"
   ]
  },
  {
   "cell_type": "markdown",
   "metadata": {},
   "source": [
    "- Perkalian skalar:\n",
    "\n",
    "  c(AB) = (cA)B = A(cB)"
   ]
  },
  {
   "cell_type": "code",
   "execution_count": 8,
   "metadata": {},
   "outputs": [
    {
     "name": "stdout",
     "output_type": "stream",
     "text": [
      "c(AB)\n",
      " [[ 96 -15 102]\n",
      " [ -3  57  27]\n",
      " [-12  -6   9]]\n",
      "(cA)B\n",
      " [[ 96 -15 102]\n",
      " [ -3  57  27]\n",
      " [-12  -6   9]]\n",
      "A(cB)\n",
      " [[ 96 -15 102]\n",
      " [ -3  57  27]\n",
      " [-12  -6   9]]\n"
     ]
    }
   ],
   "source": [
    "c = 3\n",
    "print('c(AB)\\n',c*(a@b))\n",
    "print('(cA)B\\n',(c*a)@b)\n",
    "print('A(cB)\\n',a@(c*b))"
   ]
  },
  {
   "cell_type": "markdown",
   "metadata": {},
   "source": [
    "- Perkalian identitas:\n",
    "\n",
    "  AI = IA = A"
   ]
  },
  {
   "cell_type": "code",
   "execution_count": 9,
   "metadata": {},
   "outputs": [
    {
     "name": "stdout",
     "output_type": "stream",
     "text": [
      "AI=\n",
      " [[ 2  3  2]\n",
      " [ 4  1 -3]\n",
      " [-1 -2  2]]\n",
      "IA=\n",
      " [[ 2  3  2]\n",
      " [ 4  1 -3]\n",
      " [-1 -2  2]]\n",
      "A=\n",
      " [[ 2  3  2]\n",
      " [ 4  1 -3]\n",
      " [-1 -2  2]]\n"
     ]
    }
   ],
   "source": [
    "i = np.array([[1,0,0],[0,1,0],[0,0,1]])\n",
    "print('AI=\\n',a@i)\n",
    "print('IA=\\n',i@a)\n",
    "print('A=\\n',a)"
   ]
  },
  {
   "cell_type": "markdown",
   "metadata": {},
   "source": [
    "- Tidak berlaku sifat kumutatif:\n",
    "\n",
    "  AB != BA atau AB tidak sama dengan BA"
   ]
  },
  {
   "cell_type": "code",
   "execution_count": 10,
   "metadata": {},
   "outputs": [
    {
     "name": "stdout",
     "output_type": "stream",
     "text": [
      "AB=\n",
      " [[32 -5 34]\n",
      " [-1 19  9]\n",
      " [-4 -2  3]]\n",
      "BA=\n",
      " [[13 -4  6]\n",
      " [-2 11 25]\n",
      " [-5 -1 30]]\n"
     ]
    }
   ],
   "source": [
    "print('AB=\\n',a@b)\n",
    "print('BA=\\n',b@a)"
   ]
  },
  {
   "cell_type": "markdown",
   "metadata": {},
   "source": [
    "### 4.Transpose Matriks\n",
    "\n",
    "Transpose matriks adalah matriks baru yang diperoleh dengan cara menukar elemen-elemen baris menjadi elemen kolom atau sebaliknya. Jika sebuah matriks berukuran M X N, maka transpose matriks tersebut memiliki ordo N X M.\n",
    "\n",
    "CONTOH TRANSPOSE MATRIKS:\n",
    "\n",
    "\\begin{align*}\n",
    "C=\n",
    "\\begin{bmatrix}\n",
    "3&4\\\\\n",
    "-2&4\\\\\n",
    "2&5\n",
    "\\end{bmatrix}\n",
    "&&\n",
    "CT (C Transposre)=\n",
    "\\begin{bmatrix}\n",
    "3&-2&2\\\\\n",
    "4&4&-5\n",
    "\\end{bmatrix}\n",
    "\\end{align*}\n",
    "\n",
    "BERIKUT PROGRAM UNTUK MENG-TRANSPOSE MATRIKS:"
   ]
  },
  {
   "cell_type": "code",
   "execution_count": 11,
   "metadata": {},
   "outputs": [
    {
     "name": "stdout",
     "output_type": "stream",
     "text": [
      "matrik c sebelum di transpose=\n",
      " [[ 3  4]\n",
      " [-2  4]\n",
      " [ 2  5]]\n",
      "matrik c setelah di transpose=\n",
      " [[ 3 -2  2]\n",
      " [ 4  4  5]]\n",
      "ordo C_transpose adalah (2, 3)\n",
      "Z = C_transpose x C =\n",
      " [[17 14]\n",
      " [14 57]]\n",
      "ordo z adalah (2, 2)\n",
      "P = C_transpose x C =\n",
      " [[25 10 26]\n",
      " [10 20 16]\n",
      " [26 16 29]]\n",
      "ordo P adalah (3, 3)\n",
      "Dapat disimpulkan bahwa C_transpose X C tidak sama dengan C X C_transpose\n"
     ]
    }
   ],
   "source": [
    "c=np.array([[3,4],[-2,4],[2,5]])\n",
    "c_tran = c.transpose()\n",
    "print('matrik c sebelum di transpose=\\n', c)\n",
    "print('matrik c setelah di transpose=\\n',c_tran)\n",
    "print('ordo C_transpose adalah',c_tran.shape)\n",
    "z=c_tran@c\n",
    "print('Z = C_transpose x C =\\n',z)\n",
    "print('ordo z adalah',z.shape)\n",
    "p=c@c_tran\n",
    "print('P = C_transpose x C =\\n',p)\n",
    "print('ordo P adalah',p.shape)\n",
    "print(\"Dapat disimpulkan bahwa C_transpose X C tidak sama dengan C X C_transpose\")"
   ]
  },
  {
   "cell_type": "markdown",
   "metadata": {},
   "source": [
    "### Program untuk Mengalikan Matriks"
   ]
  },
  {
   "cell_type": "code",
   "execution_count": 12,
   "metadata": {},
   "outputs": [
    {
     "name": "stdout",
     "output_type": "stream",
     "text": [
      "Berikut adalah contoh matriks\n",
      "\n",
      "matriks 1=([[2,3,2],[4,1,-3],[-1,-2,2]])\n",
      "matriks 1=([[2,4,7],[6,-3,2],[5,-2,7]])\n",
      "\n",
      "\n",
      "Hasil perkalian matriks:\n",
      "[32, -5, 34]\n",
      "[-1, 19, 9]\n",
      "[-4, -2, 3]\n"
     ]
    }
   ],
   "source": [
    "def perkalian(matrix1, matrix2):\n",
    "    if len(matrix1[0]) != len(matrix2):\n",
    "        print(\"Perkalian matriks tidak dapat dilakukan karena jumlah kolom dalam matriks pertama tidak sama dengan jumlah baris dalam matriks kedua\")\n",
    "        return None\n",
    "    result = [[0 for _ in range(len(matrix2[0]))] for _ in range(len(matrix1))]\n",
    "    for i in range(len(matrix1)):\n",
    "        for j in range(len(matrix2[0])):\n",
    "            for k in range(len(matrix2)):\n",
    "                result[i][j] += matrix1[i][k] * matrix2[k][j]\n",
    "    return result\n",
    "\n",
    "def tampilan_hasil(matrix):\n",
    "    for baris in matrix:\n",
    "        print(baris)\n",
    "\n",
    "#JIKA USER INGIN MENGINPUTKAN MATRIKSNYA SENDIRI BISA MENGGUNAKAN CODE DIBAWAH INI :\n",
    "\"\"\"def input_matrix():\n",
    "    baris = int(input(\"Masukkan jumlah baris: \"))\n",
    "    kolom = int(input(\"Masukkan jumlah kolom: \"))\n",
    "    matrix = []\n",
    "    for i in range(baris):\n",
    "        row = []\n",
    "        print(f\"Masukkan elemen untuk baris {i + 1}: \")\n",
    "        for j in range(kolom):\n",
    "            element = float(input(f\"Elemen [{i + 1}, {j + 1}]: \"))\n",
    "            row.append(element)\n",
    "        matrix.append(row)\n",
    "    return matrix\n",
    "\n",
    "print(\"Program perkalian matriks!!\")\n",
    "print(\"Masukkan matriks pertama:\")\n",
    "matriks1 = input_matrix()\n",
    "print (\"Matriks 1 = \", matriks1)\n",
    "print(\"Masukkan matriks kedua:\")\n",
    "matriks2 = input_matrix()\n",
    "print (\"Matriks 2 = \",matriks2)\n",
    "test = perkalian(matriks1, matriks2)\n",
    "print(\"\\nHasil perkalian matriks:\")\n",
    "tampilan_hasil(test)\"\"\"\n",
    "\n",
    "\n",
    "print (\"Berikut adalah contoh matriks\")\n",
    "print (\"\"\"\n",
    "matriks 1=([[2,3,2],[4,1,-3],[-1,-2,2]])\n",
    "matriks 1=([[2,4,7],[6,-3,2],[5,-2,7]])\n",
    "\"\"\")\n",
    "matriks1=([[2,3,2],[4,1,-3],[-1,-2,2]])\n",
    "matriks2=([[2,4,7],[6,-3,2],[5,-2,7]])\n",
    "test = perkalian(matriks1, matriks2)\n",
    "print(\"\\nHasil perkalian matriks:\")\n",
    "tampilan_hasil(test)\n"
   ]
  },
  {
   "cell_type": "markdown",
   "metadata": {},
   "source": [
    "BERIKUT PENJELASAN MENGENAI CODINGAN DI ATAS:\n",
    "\n",
    "1. Fungsi perkalian :\n",
    "  - def perkalian(matrix1, matrix2):\n",
    "    \n",
    "     - sebuah fungsi bernama 'perkalian' yang memiliki dua parameter yaitu matrix1 dan matrix2.\n",
    "\n",
    "  - if len(matrix1[0]) != len(matrix2):\n",
    "\n",
    "        print(\"Perkalian matriks tidak dapat dilakukan karena jumlah kolom dalam matriks pertama tidak sama dengan jumlah baris dalam matriks kedua\")\n",
    "        \n",
    "        return None\n",
    "      - pengujian awal untuk memastikan bahwa matriks dapat dikalikan. Jika jumlah kolom dalam matrix1 tidak sama dengan jumlah baris dalam matrix2, maka perkalian matriks tidak bisa dilakukan. Dalam hal ini, fungsi akan mencetak pesan kesalahan dan mengembalikan None.\n"
   ]
  }
 ],
 "metadata": {
  "kernelspec": {
   "display_name": "Python 3 (ipykernel)",
   "language": "python",
   "name": "python3"
  },
  "language_info": {
   "codemirror_mode": {
    "name": "ipython",
    "version": 3
   },
   "file_extension": ".py",
   "mimetype": "text/x-python",
   "name": "python",
   "nbconvert_exporter": "python",
   "pygments_lexer": "ipython3",
   "version": "3.10.13"
  }
 },
 "nbformat": 4,
 "nbformat_minor": 2
}
